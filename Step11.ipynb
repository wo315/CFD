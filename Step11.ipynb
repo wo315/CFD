{
 "cells": [
  {
   "cell_type": "markdown",
   "metadata": {},
   "source": [
    "# 12 Steps to Naiver-Stokes"
   ]
  },
  {
   "cell_type": "markdown",
   "metadata": {},
   "source": [
    "The final two steps in this interactive module teaching beginning CFD with Python will both solve the Naiver-Stokes equations in two dimensions, but with different boundary conditions."
   ]
  },
  {
   "cell_type": "markdown",
   "metadata": {},
   "source": [
    "The momentum equation in vector form for a velocity field $\\vec{v}$ is :\n",
    "$$\n",
    "\\dfrac{\\partial{\\vec{v}}}{\\partial{t}}+\\big(\\vec{v}\\cdot\\nabla\\big)\\vec{v} = -\\dfrac{1}{\\rho}\\nabla{p}+\\nu\\nabla^2\\vec{v}\n",
    "$$\n",
    "\n",
    "This represents three scalar equations, one for each velocity component$(u, v, w)$. But we will solve it in two dimensions, so where will be two scalar equations.\n",
    "\n",
    "Remember the continuity equation? This is where in Poisson equation for pressure comes in!"
   ]
  },
  {
   "cell_type": "markdown",
   "metadata": {},
   "source": [
    "## Step11: Cavity Flow with Navier-Stokes"
   ]
  },
  {
   "cell_type": "markdown",
   "metadata": {},
   "source": [
    "Here is the system of differential equations: two equations for the velocity components $(u, v)$ and one equation for pressure:\n",
    "\n",
    "$$\n",
    "\\dfrac{\\partial{u}}{\\partial{t}}+u\\big(\\dfrac{\\partial{u}}{\\partial{x}}+\\dfrac{\\partial{u}}{\\partial{y}}\\big)=-\\dfrac{1}{\\rho}\\dfrac{\\partial{p}}{\\partial{x}}+\\nu\\big(\\dfrac{\\partial^2{u}}{\\partial{x^2}}+\\dfrac{\\partial^2{u}}{\\partial{y}^2}\\big)\n",
    "$$\n"
   ]
  },
  {
   "cell_type": "code",
   "execution_count": null,
   "metadata": {},
   "outputs": [],
   "source": []
  }
 ],
 "metadata": {
  "kernelspec": {
   "display_name": "Python 3",
   "language": "python",
   "name": "python3"
  },
  "language_info": {
   "codemirror_mode": {
    "name": "ipython",
    "version": 3
   },
   "file_extension": ".py",
   "mimetype": "text/x-python",
   "name": "python",
   "nbconvert_exporter": "python",
   "pygments_lexer": "ipython3",
   "version": "3.6.4"
  }
 },
 "nbformat": 4,
 "nbformat_minor": 2
}
