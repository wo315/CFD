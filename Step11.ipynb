{
 "cells": [
  {
   "cell_type": "markdown",
   "metadata": {},
   "source": [
    "# 12 Steps to Naiver-Stokes"
   ]
  },
  {
   "cell_type": "markdown",
   "metadata": {},
   "source": [
    "The final two steps in this interactive module teaching beginning CFD with Python will both solve the Naiver-Stokes equations in two dimensions, but with different boundary conditions."
   ]
  },
  {
   "cell_type": "markdown",
   "metadata": {},
   "source": [
    "The momentum equation in vector form for a velocity field $\\vec{v}$ is :\n",
    "$$\n",
    "\\dfrac{\\partial{\\vec{v}}}{\\partial{t}}+\\big(\\vec{v}\\cdot\\nabla\\big)\\vec{v} = -\\dfrac{1}{\\rho}\\nabla{p}+\\nu\\nabla^2\\vec{v}\n",
    "$$\n",
    "\n",
    "This represents three scalar equations, one for each velocity component$(u, v, w)$. But we will solve it in two dimensions, so where will be two scalar equations.\n",
    "\n",
    "Remember the continuity equation? This is where in Poisson equation for pressure comes in!"
   ]
  },
  {
   "cell_type": "markdown",
   "metadata": {},
   "source": [
    "## Step11: Cavity Flow with Navier-Stokes"
   ]
  },
  {
   "cell_type": "markdown",
   "metadata": {},
   "source": [
    "Here is the system of differential equations: two equations for the velocity components $(u, v)$ and one equation for pressure:\n",
    "\n",
    "$$\n",
    "\\dfrac{\\partial{u}}{\\partial{t}}+u\\dfrac{\\partial{u}}{\\partial{x}}+v\\dfrac{\\partial{u}}{\\partial{y}}=-\\dfrac{1}{\\rho}\\dfrac{\\partial{p}}{\\partial{x}}+\\nu\\big(\\dfrac{\\partial^2{u}}{\\partial{x^2}}+\\dfrac{\\partial^2{u}}{\\partial{y}^2}\\big) \\\\\n",
    "\\dfrac{\\partial{v}}{\\partial{t}}+u\\dfrac{\\partial{v}}{\\partial{x}}+\n",
    "v\\dfrac{\\partial{v}}{\\partial{y}}=-\\dfrac{1}{\\rho}\\dfrac{\\partial{p}}{\\partial{y}}+\\nu\\big(\\dfrac{\\partial^2{v}}{\\partial{x^2}}+\\dfrac{\\partial^2{v}}{\\partial{y^2}}\\big) \\\\\n",
    "\\dfrac{\\partial^2{p}}{\\partial{x^2}}+\\dfrac{\\partial^2{p}}{\\partial{y^2}}=-\\rho\\big(\\dfrac{\\partial{u}}{\\partial{x}}\\dfrac{\\partial{u}}{\\partial{x}} + 2\\dfrac{\\partial{u}}{\\partial{y}}\\dfrac{\\partial{v}}{\\partial{x}} + \\dfrac{\\partial{v}}{\\partial{y}}\\dfrac{\\partial{v}}{\\partial{y}}\\big)+\\rho\\dfrac{\\partial}{\\partial{t}}\\big(\\dfrac{\\partial{u}}{\\partial{x}}+\\dfrac{\\partial{u}}{\\partial{y}}\\big)\n",
    "$$\n",
    "\n",
    "Frome the previous steps, we already know how to discretize all these terms. Only the last equation is a little unfamiliar. But with a little patience, it will not be hard!"
   ]
  },
  {
   "cell_type": "markdown",
   "metadata": {},
   "source": [
    "## Discretized equations"
   ]
  },
  {
   "cell_type": "markdown",
   "metadata": {},
   "source": [
    "First, let's discretize the $u$-momentum equation, as follows:\n",
    "\n",
    "$$\n",
    "\\dfrac{u_{i,j}^{n+1} - u_{i,j}^{n}}{\\Delta{t}}+\n",
    "u_{i,j}^{n}\\dfrac{u_{i,j}^{n}-u_{i-1,j}^{n}}{\\Delta{x}}+\n",
    "v_{i,j}^{n}\\dfrac{u_{i,j}^{n}-u_{i,j-1}^{n}}{\\Delta{y}}=-\\dfrac{1}{\\rho}\n",
    "\\dfrac{p_{i+1,j}^{n}-p_{i-1,j}^{n}}{2\\Delta{x}}+\\nu\\big(\n",
    "\\dfrac{u_{i+1,j}^{n}-2u_{i,j}^{n}+u_{i-1,j}^{n}}{\\Delta{x^2}}+\n",
    "\\dfrac{u_{i,j+1}^{n}-2u_{i,j}^{n}+u_{i,j-1}^{n}}{\\Delta{y^2}}\\big)\n",
    "$$\n",
    "\n",
    "Similarly for the $v$-momentum equation:\n",
    "\n",
    "$$\n",
    "\\dfrac{v_{i,j}^{n+1} - v_{i,j}^{n}}{\\Delta{t}}+\n",
    "u_{i,j}^{n}\\dfrac{v_{i,j}^{n}-v_{i-1,j}^{n}}{\\Delta{x}}+\n",
    "v_{i,j}^{n}\\dfrac{v_{i,j}^{n}-v_{i,j-1}^{n}}{\\Delta{y}}=-\\dfrac{1}{\\rho}\n",
    "\\dfrac{p_{i+1,j}^{n}-p_{i-1,j}^{n}}{2\\Delta{x}}+\\nu\\big(\n",
    "\\dfrac{v_{i+1,j}^{n}-2v_{i,j}^{n}+v_{i-1,j}^{n}}{\\Delta{x^2}}+\n",
    "\\dfrac{v_{i,j+1}^{n}-2v_{i,j}^{n}+v_{i,j-1}^{n}}{\\Delta{y^2}}\\big)\n",
    "$$\n",
    "\n",
    "Finally, the disretized pressure-Poisson equation can be writtend thus:\n",
    "\n",
    "$$\n",
    "\\dfrac{p_{i+1,j}^{n}-2p_{i,j}^{n}+p_{i-1,j}^{n}}{\\Delta{x^2}}+\n",
    "\\dfrac{p_{i,j+1}^{n}-2p_{i,j}^{n}+p_{i,j-1}^{n}}{\\Delta{y^2}}= \\\\\n",
    "\\rho\n",
    "[\\dfrac{1}{\\Delta{t}}\\big(\\dfrac{u_{i+1,j}^{n}-u_{i-1,j}^{n}}{2\\Delta{x}}+\\dfrac{u_{i,j+1}^{n}-u_{i,j-1}^{n}}{2\\Delta{y}}\\big)]-\\rho\n",
    "\\big(\\dfrac{u_{i+1,j}^{n}-u_{i-1,j}^{n}}{2\\Delta{x}}\\dfrac{u_{i+1,j}^{n}-u_{i-1,j}^{n}}{2\\Delta{x}}+\n",
    "\\dfrac{u_{i,j+1}^{n}-u_{i,j-1}^{n}}{2\\Delta{y}}\\dfrac{v_{i+1,j}^{n}-v_{i-1,j}^{n}}{2\\Delta{x}}+\n",
    "\\dfrac{v_{i,j+1}^{n}-v_{i,j-1}^{n}}{2\\Delta{y}}\n",
    "\\dfrac{v_{i,j+1}^{n}-v_{i,j-1}^{n}}{2\\Delta{y}}\\big)\n",
    "$$\n",
    "\n",
    "**这个方程是我写的最头疼的**\n",
    "\n",
    "$\\LaTeX$敲死我了。关键教程11步错误太多了。要注意。"
   ]
  },
  {
   "cell_type": "code",
   "execution_count": null,
   "metadata": {},
   "outputs": [],
   "source": []
  }
 ],
 "metadata": {
  "kernelspec": {
   "display_name": "Python 3",
   "language": "python",
   "name": "python3"
  },
  "language_info": {
   "codemirror_mode": {
    "name": "ipython",
    "version": 3
   },
   "file_extension": ".py",
   "mimetype": "text/x-python",
   "name": "python",
   "nbconvert_exporter": "python",
   "pygments_lexer": "ipython3",
   "version": "3.6.4"
  }
 },
 "nbformat": 4,
 "nbformat_minor": 2
}
