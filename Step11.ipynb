{
 "cells": [
  {
   "cell_type": "markdown",
   "metadata": {},
   "source": [
    "# 12 Steps to Naiver-Stokes"
   ]
  },
  {
   "cell_type": "markdown",
   "metadata": {},
   "source": [
    "The final two steps in this interactive module teaching beginning CFD with Python will both solve the Naiver-Stokes equations in two dimensions, but with different boundary conditions."
   ]
  },
  {
   "cell_type": "markdown",
   "metadata": {},
   "source": [
    "The momentum equation in vector form for a velocity field $\\vec{v}$ is :\n",
    "$$\n",
    "\\dfrac{\\partial{\\vec{v}}}{\\partial{t}}+\\big(\\vec{v}\\cdot\\nabla\\big)\\vec{v} = -\\dfrac{1}{\\rho}\\nabla{p}+\\nu\\nabla^2\\vec{v}\n",
    "$$\n",
    "\n",
    "This represents three scalar equations, one for each velocity component$(u, v, w)$. But we will solve it in two dimensions, so where will be two scalar equations.\n",
    "\n",
    "Remember the continuity equation? This is where in Poisson equation for pressure comes in!"
   ]
  },
  {
   "cell_type": "markdown",
   "metadata": {},
   "source": [
    "## Step11: Cavity Flow with Navier-Stokes"
   ]
  },
  {
   "cell_type": "markdown",
   "metadata": {},
   "source": [
    "Here is the system of differential equations: two equations for the velocity components $(u, v)$ and one equation for pressure:\n",
    "\n",
    "$$\n",
    "\\dfrac{\\partial{u}}{\\partial{t}}+u\\dfrac{\\partial{u}}{\\partial{x}}+v\\dfrac{\\partial{u}}{\\partial{y}}=-\\dfrac{1}{\\rho}\\dfrac{\\partial{p}}{\\partial{x}}+\\nu\\big(\\dfrac{\\partial^2{u}}{\\partial{x^2}}+\\dfrac{\\partial^2{u}}{\\partial{y}^2}\\big) \\\\\n",
    "\\dfrac{\\partial{v}}{\\partial{t}}+u\\dfrac{\\partial{v}}{\\partial{x}}+\n",
    "v\\dfrac{\\partial{v}}{\\partial{y}}=-\\dfrac{1}{\\rho}\\dfrac{\\partial{p}}{\\partial{y}}+\\nu\\big(\\dfrac{\\partial^2{v}}{\\partial{x^2}}+\\dfrac{\\partial^2{v}}{\\partial{y^2}}\\big) \\\\\n",
    "\\dfrac{\\partial^2{p}}{\\partial{x^2}}+\\dfrac{\\partial^2{p}}{\\partial{y^2}}=-\\rho\\big(\\dfrac{\\partial{u}}{\\partial{x}}\\dfrac{\\partial{u}}{\\partial{x}} + 2\\dfrac{\\partial{u}}{\\partial{y}}\\dfrac{\\partial{v}}{\\partial{x}} + \\dfrac{\\partial{v}}{\\partial{y}}\\dfrac{\\partial{v}}{\\partial{y}}\\big)+\\rho\\dfrac{\\partial}{\\partial{t}}\\big(\\dfrac{\\partial{u}}{\\partial{x}}+\\dfrac{\\partial{u}}{\\partial{y}}\\big)\n",
    "$$\n",
    "\n",
    "Frome the previous steps, we already know how to discretize all these terms. Only the last equation is a little unfamiliar. But with a little patience, it will not be hard!"
   ]
  },
  {
   "cell_type": "markdown",
   "metadata": {},
   "source": [
    "## Discretized equations"
   ]
  },
  {
   "cell_type": "markdown",
   "metadata": {},
   "source": [
    "First, let's discretize the $u$-momentum equation, as follows:\n",
    "\n",
    "$$\n",
    "\\dfrac{u_{i,j}^{n+1} - u_{i,j}^{n}}{\\Delta{t}}+\n",
    "u_{i,j}^{n}\\dfrac{u_{i,j}^{n}-u_{i-1,j}^{n}}{\\Delta{x}}+\n",
    "v_{i,j}^{n}\\dfrac{u_{i,j}^{n}-u_{i,j-1}^{n}}{\\Delta{y}}=-\\dfrac{1}{\\rho}\n",
    "\\dfrac{p_{i+1,j}^{n}-p_{i-1,j}^{n}}{2\\Delta{x}}+\\nu\\big(\n",
    "\\dfrac{u_{i+1,j}^{n}-2u_{i,j}^{n}+u_{i-1,j}^{n}}{\\Delta{x^2}}+\n",
    "\\dfrac{u_{i,j+1}^{n}-2u_{i,j}^{n}+u_{i,j-1}^{n}}{\\Delta{y^2}}\\big)\n",
    "$$\n",
    "\n",
    "Similarly for the $v$-momentum equation:\n",
    "\n",
    "$$\n",
    "\\dfrac{v_{i,j}^{n+1} - v_{i,j}^{n}}{\\Delta{t}}+\n",
    "u_{i,j}^{n}\\dfrac{v_{i,j}^{n}-v_{i-1,j}^{n}}{\\Delta{x}}+\n",
    "v_{i,j}^{n}\\dfrac{v_{i,j}^{n}-v_{i,j-1}^{n}}{\\Delta{y}}=-\\dfrac{1}{\\rho}\n",
    "\\dfrac{p_{i+1,j}^{n}-p_{i-1,j}^{n}}{2\\Delta{x}}+\\nu\\big(\n",
    "\\dfrac{v_{i+1,j}^{n}-2v_{i,j}^{n}+v_{i-1,j}^{n}}{\\Delta{x^2}}+\n",
    "\\dfrac{v_{i,j+1}^{n}-2v_{i,j}^{n}+v_{i,j-1}^{n}}{\\Delta{y^2}}\\big)\n",
    "$$\n",
    "\n",
    "Finally, the disretized pressure-Poisson equation can be writtend thus:\n",
    "\n",
    "$$\n",
    "\\dfrac{p_{i+1,j}^{n}-2p_{i,j}^{n}+p_{i-1,j}^{n}}{\\Delta{x^2}}+\n",
    "\\dfrac{p_{i,j+1}^{n}-2p_{i,j}^{n}+p_{i,j-1}^{n}}{\\Delta{y^2}}= \\\\\n",
    "\\rho\n",
    "[\\dfrac{1}{\\Delta{t}}\\big(\\dfrac{u_{i+1,j}^{n}-u_{i-1,j}^{n}}{2\\Delta{x}}+\\dfrac{u_{i,j+1}^{n}-u_{i,j-1}^{n}}{2\\Delta{y}}\\big)]-\\rho\n",
    "\\big(\\dfrac{u_{i+1,j}^{n}-u_{i-1,j}^{n}}{2\\Delta{x}}\\dfrac{u_{i+1,j}^{n}-u_{i-1,j}^{n}}{2\\Delta{x}}+\n",
    "2\\dfrac{u_{i,j+1}^{n}-u_{i,j-1}^{n}}{2\\Delta{y}}\\dfrac{v_{i+1,j}^{n}-v_{i-1,j}^{n}}{2\\Delta{x}}+\n",
    "\\dfrac{v_{i,j+1}^{n}-v_{i,j-1}^{n}}{2\\Delta{y}}\n",
    "\\dfrac{v_{i,j+1}^{n}-v_{i,j-1}^{n}}{2\\Delta{y}}\\big)\n",
    "$$\n",
    "\n",
    "**这个方程是我写的最头疼的**\n",
    "\n",
    "$\\LaTeX$敲死我了。关键教程11步错误太多了。要注意。"
   ]
  },
  {
   "cell_type": "markdown",
   "metadata": {},
   "source": [
    "The initial condition is $u,v,p=0$ everwhere, and the boundary conditions are:\n",
    "\n",
    "$u = 1 \\ at \\ y = 2(the \"lid\")$\n",
    "\n",
    "$u = 0, v = 0 \\ at \\ x = 0, 2  y = 0$\n",
    "\n",
    "$\\frac{\\partial{p}}{\\partial{y}}=0 \\ at y = 0$\n",
    "\n",
    "$\\frac{\\partial{p}}{\\partial{x}}=0 \\ at x = 0, 2$\n",
    "\n",
    "$p = 0 \\ at \\ y = 2$\n",
    "\n",
    "\n",
    "\n"
   ]
  },
  {
   "cell_type": "markdown",
   "metadata": {},
   "source": [
    "## Implementing Cavity Flow"
   ]
  },
  {
   "cell_type": "code",
   "execution_count": 2,
   "metadata": {},
   "outputs": [],
   "source": [
    "import numpy as np\n",
    "from matplotlib import pyplot, cm\n",
    "from mpl_toolkits.mplot3d import Axes3D\n",
    "%matplotlib inline"
   ]
  },
  {
   "cell_type": "code",
   "execution_count": 3,
   "metadata": {},
   "outputs": [],
   "source": [
    "nx = 41\n",
    "ny = 41\n",
    "dx = 2/(nx-1)\n",
    "dy = 2/(ny-1)\n",
    "nt = 500\n",
    "nit = 50\n",
    "rho = 1\n",
    "nu = 0.1\n",
    "dt = 0.001\n",
    "x = np.linspace(0, 2, nx)\n",
    "y = np.linspace(0, 2, ny)\n",
    "X, Y = np.meshgrid(x,y)\n",
    "u = np.zeros((ny, nx))\n",
    "v = np.zeros((ny, nx))\n",
    "p = np.zeros((ny, nx))\n",
    "b = np.zeros((ny, nx))"
   ]
  },
  {
   "cell_type": "code",
   "execution_count": 8,
   "metadata": {},
   "outputs": [],
   "source": [
    "def build_up_b(b, rho, dt, dx, dy, u):\n",
    "    b[1:-1, 1:-1] = rho * (u[1:-1, 2:] - u[1:-1, :-2]) / (dt * 2 * dx)\\\n",
    "                  + rho * (u[2:, 1:-1] - u[-2:, 1:-1]) / (dt * 2 * dx)\\\n",
    "                  - rho *((u[1:-1, 2:] - u[1:-1, :-2]) / (2*dx)) ** 2 \\\n",
    "                  - rho *((v[2:, 1:-1] - v[:-2, 1:-1]) / (2*dy)) ** 2 \\\n",
    "                  - rho *((u[2:, 1:-1] - u[:-2, 1:-1])*((v[1:-1, 2:] - v[1:-1, :-2])) / (4*dx*dy))\n",
    "    return b"
   ]
  },
  {
   "cell_type": "code",
   "execution_count": 10,
   "metadata": {},
   "outputs": [],
   "source": [
    "def pressure_poisson(p, dx, dy, b):\n",
    "    #define a pseudo-time variable-nit;\n",
    "    for i in range(nit):\n",
    "        pn = p.copy()\n",
    "        p[1:-1, 1:-1] = ((dy**2)*(pn[1:1, 2:] - pn[1:1, -2]) + (dx ** 2)*(pn[2:,1:-1] - pn[:-2, 1:-1]))/(2*(dx**2 + dy**2))\\\n",
    "                  + (dx**2 * dy**2) * b /(2*(dx**2 + dy**2))\n",
    "    \n",
    "        p[:, -1] = p[:, -2]\n",
    "        p[:, 0]  = p[:, 1]\n",
    "        p[-1, :] = 0\n",
    "        p[0, :] = p[1, :]\n",
    "    return p"
   ]
  },
  {
   "cell_type": "code",
   "execution_count": null,
   "metadata": {},
   "outputs": [],
   "source": [
    "def cavity_flow(nt, u, v, p, rho, nu, dt, dx, dy):\n",
    "    for i in range(nt):\n",
    "        un = u.copy()\n",
    "        vn = v.copy()\n",
    "        \n",
    "        b = build_up_b(b, rho, dt, u, v, dx, dy)\n",
    "        p = pressure_poisson(b, p, dx, dy)\n",
    "        \n",
    "        u[1:-1, 1:-1] = u[]"
   ]
  }
 ],
 "metadata": {
  "kernelspec": {
   "display_name": "Python 3",
   "language": "python",
   "name": "python3"
  },
  "language_info": {
   "codemirror_mode": {
    "name": "ipython",
    "version": 3
   },
   "file_extension": ".py",
   "mimetype": "text/x-python",
   "name": "python",
   "nbconvert_exporter": "python",
   "pygments_lexer": "ipython3",
   "version": "3.6.4"
  }
 },
 "nbformat": 4,
 "nbformat_minor": 2
}
